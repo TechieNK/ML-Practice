{
  "nbformat": 4,
  "nbformat_minor": 0,
  "metadata": {
    "colab": {
      "name": "iPhone Price Prediction.ipynb",
      "provenance": []
    },
    "kernelspec": {
      "name": "python3",
      "display_name": "Python 3"
    },
    "language_info": {
      "name": "python"
    }
  },
  "cells": [
    {
      "cell_type": "code",
      "metadata": {
        "id": "mKYixu42vqR-"
      },
      "source": [
        "!pip install pandas\n",
        "!pip install matplotlib\n",
        "!pip install scikit-learn"
      ],
      "execution_count": null,
      "outputs": []
    },
    {
      "cell_type": "code",
      "metadata": {
        "id": "d8l_Gvf6zuKf"
      },
      "source": [
        "import pandas as pd\n",
        "import matplotlib.pyplot as plt\n",
        "from sklearn.linear_model import LinearRegression"
      ],
      "execution_count": 23,
      "outputs": []
    },
    {
      "cell_type": "code",
      "metadata": {
        "colab": {
          "base_uri": "https://localhost:8080/",
          "height": 296
        },
        "id": "FZmlV9ArzzwW",
        "outputId": "9d73d16b-7ef9-4ff7-d951-4d88611c66d3"
      },
      "source": [
        "data = pd.read_csv('iphone_price.csv')\n",
        "plt.scatter(data['version'],data['price'])\n",
        "plt.xlabel('iPhone Model')\n",
        "plt.ylabel('Price in $')\n",
        "plt.plot()"
      ],
      "execution_count": 21,
      "outputs": [
        {
          "output_type": "execute_result",
          "data": {
            "text/plain": [
              "[]"
            ]
          },
          "metadata": {
            "tags": []
          },
          "execution_count": 21
        },
        {
          "output_type": "display_data",
          "data": {
            "image/png": "[encoded data removed]",
            "text/plain": [
              "<Figure size 432x288 with 1 Axes>"
            ]
          },
          "metadata": {
            "tags": [],
            "needs_background": "light"
          }
        }
      ]
    },
    {
      "cell_type": "code",
      "metadata": {
        "colab": {
          "base_uri": "https://localhost:8080/"
        },
        "id": "pNxbW_sY2StH",
        "outputId": "c8223781-2977-4e0f-d507-aa738067f0be"
      },
      "source": [
        "model = LinearRegression()\n",
        "model.fit(data[['version']],data[['price']])\n",
        "print(model.predict([[13]]))"
      ],
      "execution_count": 26,
      "outputs": [
        {
          "output_type": "stream",
          "text": [
            "[[1292.03030303]]\n"
          ],
          "name": "stdout"
        }
      ]
    }
  ]
}